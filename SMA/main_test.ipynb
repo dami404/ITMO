{
 "cells": [
  {
   "cell_type": "markdown",
   "metadata": {
    "id": "HmQUEJOqv5FJ",
    "pycharm": {
     "name": "#%% md\n"
    }
   },
   "source": [
    "# Генерация тренировочного и тестового датасетов"
   ]
  },
  {
   "cell_type": "markdown",
   "metadata": {
    "id": "kuxEd1Hhv5FT",
    "pycharm": {
     "name": "#%% md\n"
    }
   },
   "source": [
    "Импортируем нужные библиотеки"
   ]
  },
  {
   "cell_type": "code",
   "execution_count": null,
   "metadata": {
    "id": "OItgHBYKv5FV",
    "pycharm": {
     "name": "#%%\n"
    }
   },
   "outputs": [],
   "source": [
    "import pandas as pd\n",
    "import numpy as np\n",
    "from sklearn.model_selection import train_test_split\n",
    "from sklearn.feature_extraction.text import TfidfVectorizer\n",
    "from sklearn.ensemble import RandomForestClassifier\n",
    "from sklearn.metrics import confusion_matrix\n",
    "from sklearn.metrics import precision_score\n",
    "from sklearn.metrics import classification_report\n",
    "import scipy as sp"
   ]
  },
  {
   "cell_type": "markdown",
   "metadata": {
    "id": "uILszxp1v5FY",
    "pycharm": {
     "name": "#%% md\n"
    }
   },
   "source": [
    "Прочитаем предварительно обработанный датасет и удалим все строки, с пропусками"
   ]
  },
  {
   "cell_type": "code",
   "source": [
    "from google.colab import drive\n",
    "drive.mount('/content/drive')"
   ],
   "metadata": {
    "id": "NYaj1gjtxchi",
    "outputId": "3aab5752-28bd-477f-cacc-7758e95a81c5",
    "colab": {
     "base_uri": "https://localhost:8080/"
    },
    "pycharm": {
     "name": "#%%\n"
    }
   },
   "execution_count": null,
   "outputs": [
    {
     "output_type": "stream",
     "name": "stdout",
     "text": [
      "Mounted at /content/drive\n"
     ]
    }
   ]
  },
  {
   "cell_type": "code",
   "execution_count": null,
   "metadata": {
    "id": "ds-w2Ajtv5FZ",
    "outputId": "d364b864-d09e-4645-9663-6c73aab146ee",
    "colab": {
     "base_uri": "https://localhost:8080/",
     "height": 597
    },
    "pycharm": {
     "name": "#%%\n"
    }
   },
   "outputs": [
    {
     "output_type": "execute_result",
     "data": {
      "text/plain": [
       "       class  date                                         from  \\\n",
       "0          0     4                       info@global-change.com   \n",
       "1          0     1                       info@pmaconference.com   \n",
       "2          0     6                       info@pmaconference.com   \n",
       "3          0     3                          bruno@firstconf.com   \n",
       "4          0     1                 deanrogers@energyclasses.com   \n",
       "...      ...   ...                                          ...   \n",
       "30687      1     3     jacob rzucidlo <lavoneaker@stalag13.com>   \n",
       "30688      1     5       hal leake <annettgaskell@buglover.net>   \n",
       "30689      1     2  dr collins khumalo <khumalo_20@sunumail.sn>   \n",
       "30690      1     6      Customer Support <support@citibank.com>   \n",
       "30691      1     6     Tapanga Cribbin <James_Lam@cnwl.igs.net>   \n",
       "\n",
       "                                               to  \\\n",
       "0                        michelle.lokay@enron.com   \n",
       "1                        michelle.lokay@enron.com   \n",
       "2                        michelle.lokay@enron.com   \n",
       "3                    energynews@fc.ease.lsoft.com   \n",
       "4                        michelle.lokay@enron.com   \n",
       "...                                           ...   \n",
       "30687     johnny wynott <varou@iit.demokritos.gr>   \n",
       "30688  renato mooney <sigletos@iit.demokritos.gr>   \n",
       "30689                      khumalo_20@sunumail.sn   \n",
       "30690       Paliourg <paliourg@iit.demokritos.gr>   \n",
       "30691                  paliourg@iit.demokritos.gr   \n",
       "\n",
       "                                  subject  \\\n",
       "0                  next wave energi trade   \n",
       "1           regist next txu capac auction   \n",
       "2       merchant power monthli free sampl   \n",
       "3                      eyeforenergi updat   \n",
       "4      deriv earli bird til march houston   \n",
       "...                                   ...   \n",
       "30687       cpu pain m edicati n ship d r   \n",
       "30688                    dn troubl f r ee   \n",
       "30689                   dr collin khumalo   \n",
       "30690        dear custom detail compromis   \n",
       "30691                      fwd great news   \n",
       "\n",
       "                                                    body  \n",
       "0      energi industri profession global chang associ...  \n",
       "1      regist next txu energi capac auction new regis...  \n",
       "2      merchant power monthli month s issu almost mw ...  \n",
       "3      welcom week s eyeforenergi updat refresh memor...  \n",
       "4      deriv energi profession two full day april ear...  \n",
       "...                                                  ...  \n",
       "30687  arrghh west amnstv amlsmith basu petrom qureai...  \n",
       "30688  dn troubl f r ee angiospasma zekauskasa anarti...  \n",
       "30689  dr collin khumalo attn mr presid dr collin khu...  \n",
       "30690  dear custom detail compromis dear custom recen...  \n",
       "30691  state shall without consent congress lay impos...  \n",
       "\n",
       "[29890 rows x 6 columns]"
      ],
      "text/html": [
       "\n",
       "  <div id=\"df-83675dae-8514-4a70-a09d-b33f7f9b9bc5\" class=\"colab-df-container\">\n",
       "    <div>\n",
       "<style scoped>\n",
       "    .dataframe tbody tr th:only-of-type {\n",
       "        vertical-align: middle;\n",
       "    }\n",
       "\n",
       "    .dataframe tbody tr th {\n",
       "        vertical-align: top;\n",
       "    }\n",
       "\n",
       "    .dataframe thead th {\n",
       "        text-align: right;\n",
       "    }\n",
       "</style>\n",
       "<table border=\"1\" class=\"dataframe\">\n",
       "  <thead>\n",
       "    <tr style=\"text-align: right;\">\n",
       "      <th></th>\n",
       "      <th>class</th>\n",
       "      <th>date</th>\n",
       "      <th>from</th>\n",
       "      <th>to</th>\n",
       "      <th>subject</th>\n",
       "      <th>body</th>\n",
       "    </tr>\n",
       "  </thead>\n",
       "  <tbody>\n",
       "    <tr>\n",
       "      <th>0</th>\n",
       "      <td>0</td>\n",
       "      <td>4</td>\n",
       "      <td>info@global-change.com</td>\n",
       "      <td>michelle.lokay@enron.com</td>\n",
       "      <td>next wave energi trade</td>\n",
       "      <td>energi industri profession global chang associ...</td>\n",
       "    </tr>\n",
       "    <tr>\n",
       "      <th>1</th>\n",
       "      <td>0</td>\n",
       "      <td>1</td>\n",
       "      <td>info@pmaconference.com</td>\n",
       "      <td>michelle.lokay@enron.com</td>\n",
       "      <td>regist next txu capac auction</td>\n",
       "      <td>regist next txu energi capac auction new regis...</td>\n",
       "    </tr>\n",
       "    <tr>\n",
       "      <th>2</th>\n",
       "      <td>0</td>\n",
       "      <td>6</td>\n",
       "      <td>info@pmaconference.com</td>\n",
       "      <td>michelle.lokay@enron.com</td>\n",
       "      <td>merchant power monthli free sampl</td>\n",
       "      <td>merchant power monthli month s issu almost mw ...</td>\n",
       "    </tr>\n",
       "    <tr>\n",
       "      <th>3</th>\n",
       "      <td>0</td>\n",
       "      <td>3</td>\n",
       "      <td>bruno@firstconf.com</td>\n",
       "      <td>energynews@fc.ease.lsoft.com</td>\n",
       "      <td>eyeforenergi updat</td>\n",
       "      <td>welcom week s eyeforenergi updat refresh memor...</td>\n",
       "    </tr>\n",
       "    <tr>\n",
       "      <th>4</th>\n",
       "      <td>0</td>\n",
       "      <td>1</td>\n",
       "      <td>deanrogers@energyclasses.com</td>\n",
       "      <td>michelle.lokay@enron.com</td>\n",
       "      <td>deriv earli bird til march houston</td>\n",
       "      <td>deriv energi profession two full day april ear...</td>\n",
       "    </tr>\n",
       "    <tr>\n",
       "      <th>...</th>\n",
       "      <td>...</td>\n",
       "      <td>...</td>\n",
       "      <td>...</td>\n",
       "      <td>...</td>\n",
       "      <td>...</td>\n",
       "      <td>...</td>\n",
       "    </tr>\n",
       "    <tr>\n",
       "      <th>30687</th>\n",
       "      <td>1</td>\n",
       "      <td>3</td>\n",
       "      <td>jacob rzucidlo &lt;lavoneaker@stalag13.com&gt;</td>\n",
       "      <td>johnny wynott &lt;varou@iit.demokritos.gr&gt;</td>\n",
       "      <td>cpu pain m edicati n ship d r</td>\n",
       "      <td>arrghh west amnstv amlsmith basu petrom qureai...</td>\n",
       "    </tr>\n",
       "    <tr>\n",
       "      <th>30688</th>\n",
       "      <td>1</td>\n",
       "      <td>5</td>\n",
       "      <td>hal leake &lt;annettgaskell@buglover.net&gt;</td>\n",
       "      <td>renato mooney &lt;sigletos@iit.demokritos.gr&gt;</td>\n",
       "      <td>dn troubl f r ee</td>\n",
       "      <td>dn troubl f r ee angiospasma zekauskasa anarti...</td>\n",
       "    </tr>\n",
       "    <tr>\n",
       "      <th>30689</th>\n",
       "      <td>1</td>\n",
       "      <td>2</td>\n",
       "      <td>dr collins khumalo &lt;khumalo_20@sunumail.sn&gt;</td>\n",
       "      <td>khumalo_20@sunumail.sn</td>\n",
       "      <td>dr collin khumalo</td>\n",
       "      <td>dr collin khumalo attn mr presid dr collin khu...</td>\n",
       "    </tr>\n",
       "    <tr>\n",
       "      <th>30690</th>\n",
       "      <td>1</td>\n",
       "      <td>6</td>\n",
       "      <td>Customer Support &lt;support@citibank.com&gt;</td>\n",
       "      <td>Paliourg &lt;paliourg@iit.demokritos.gr&gt;</td>\n",
       "      <td>dear custom detail compromis</td>\n",
       "      <td>dear custom detail compromis dear custom recen...</td>\n",
       "    </tr>\n",
       "    <tr>\n",
       "      <th>30691</th>\n",
       "      <td>1</td>\n",
       "      <td>6</td>\n",
       "      <td>Tapanga Cribbin &lt;James_Lam@cnwl.igs.net&gt;</td>\n",
       "      <td>paliourg@iit.demokritos.gr</td>\n",
       "      <td>fwd great news</td>\n",
       "      <td>state shall without consent congress lay impos...</td>\n",
       "    </tr>\n",
       "  </tbody>\n",
       "</table>\n",
       "<p>29890 rows × 6 columns</p>\n",
       "</div>\n",
       "    <div class=\"colab-df-buttons\">\n",
       "\n",
       "  <div class=\"colab-df-container\">\n",
       "    <button class=\"colab-df-convert\" onclick=\"convertToInteractive('df-83675dae-8514-4a70-a09d-b33f7f9b9bc5')\"\n",
       "            title=\"Convert this dataframe to an interactive table.\"\n",
       "            style=\"display:none;\">\n",
       "\n",
       "  <svg xmlns=\"http://www.w3.org/2000/svg\" height=\"24px\" viewBox=\"0 -960 960 960\">\n",
       "    <path d=\"M120-120v-720h720v720H120Zm60-500h600v-160H180v160Zm220 220h160v-160H400v160Zm0 220h160v-160H400v160ZM180-400h160v-160H180v160Zm440 0h160v-160H620v160ZM180-180h160v-160H180v160Zm440 0h160v-160H620v160Z\"/>\n",
       "  </svg>\n",
       "    </button>\n",
       "\n",
       "  <style>\n",
       "    .colab-df-container {\n",
       "      display:flex;\n",
       "      gap: 12px;\n",
       "    }\n",
       "\n",
       "    .colab-df-convert {\n",
       "      background-color: #E8F0FE;\n",
       "      border: none;\n",
       "      border-radius: 50%;\n",
       "      cursor: pointer;\n",
       "      display: none;\n",
       "      fill: #1967D2;\n",
       "      height: 32px;\n",
       "      padding: 0 0 0 0;\n",
       "      width: 32px;\n",
       "    }\n",
       "\n",
       "    .colab-df-convert:hover {\n",
       "      background-color: #E2EBFA;\n",
       "      box-shadow: 0px 1px 2px rgba(60, 64, 67, 0.3), 0px 1px 3px 1px rgba(60, 64, 67, 0.15);\n",
       "      fill: #174EA6;\n",
       "    }\n",
       "\n",
       "    .colab-df-buttons div {\n",
       "      margin-bottom: 4px;\n",
       "    }\n",
       "\n",
       "    [theme=dark] .colab-df-convert {\n",
       "      background-color: #3B4455;\n",
       "      fill: #D2E3FC;\n",
       "    }\n",
       "\n",
       "    [theme=dark] .colab-df-convert:hover {\n",
       "      background-color: #434B5C;\n",
       "      box-shadow: 0px 1px 3px 1px rgba(0, 0, 0, 0.15);\n",
       "      filter: drop-shadow(0px 1px 2px rgba(0, 0, 0, 0.3));\n",
       "      fill: #FFFFFF;\n",
       "    }\n",
       "  </style>\n",
       "\n",
       "    <script>\n",
       "      const buttonEl =\n",
       "        document.querySelector('#df-83675dae-8514-4a70-a09d-b33f7f9b9bc5 button.colab-df-convert');\n",
       "      buttonEl.style.display =\n",
       "        google.colab.kernel.accessAllowed ? 'block' : 'none';\n",
       "\n",
       "      async function convertToInteractive(key) {\n",
       "        const element = document.querySelector('#df-83675dae-8514-4a70-a09d-b33f7f9b9bc5');\n",
       "        const dataTable =\n",
       "          await google.colab.kernel.invokeFunction('convertToInteractive',\n",
       "                                                    [key], {});\n",
       "        if (!dataTable) return;\n",
       "\n",
       "        const docLinkHtml = 'Like what you see? Visit the ' +\n",
       "          '<a target=\"_blank\" href=https://colab.research.google.com/notebooks/data_table.ipynb>data table notebook</a>'\n",
       "          + ' to learn more about interactive tables.';\n",
       "        element.innerHTML = '';\n",
       "        dataTable['output_type'] = 'display_data';\n",
       "        await google.colab.output.renderOutput(dataTable, element);\n",
       "        const docLink = document.createElement('div');\n",
       "        docLink.innerHTML = docLinkHtml;\n",
       "        element.appendChild(docLink);\n",
       "      }\n",
       "    </script>\n",
       "  </div>\n",
       "\n",
       "\n",
       "<div id=\"df-008665e9-1c1e-4fb6-8e93-fe06ef732699\">\n",
       "  <button class=\"colab-df-quickchart\" onclick=\"quickchart('df-008665e9-1c1e-4fb6-8e93-fe06ef732699')\"\n",
       "            title=\"Suggest charts\"\n",
       "            style=\"display:none;\">\n",
       "\n",
       "<svg xmlns=\"http://www.w3.org/2000/svg\" height=\"24px\"viewBox=\"0 0 24 24\"\n",
       "     width=\"24px\">\n",
       "    <g>\n",
       "        <path d=\"M19 3H5c-1.1 0-2 .9-2 2v14c0 1.1.9 2 2 2h14c1.1 0 2-.9 2-2V5c0-1.1-.9-2-2-2zM9 17H7v-7h2v7zm4 0h-2V7h2v10zm4 0h-2v-4h2v4z\"/>\n",
       "    </g>\n",
       "</svg>\n",
       "  </button>\n",
       "\n",
       "<style>\n",
       "  .colab-df-quickchart {\n",
       "      --bg-color: #E8F0FE;\n",
       "      --fill-color: #1967D2;\n",
       "      --hover-bg-color: #E2EBFA;\n",
       "      --hover-fill-color: #174EA6;\n",
       "      --disabled-fill-color: #AAA;\n",
       "      --disabled-bg-color: #DDD;\n",
       "  }\n",
       "\n",
       "  [theme=dark] .colab-df-quickchart {\n",
       "      --bg-color: #3B4455;\n",
       "      --fill-color: #D2E3FC;\n",
       "      --hover-bg-color: #434B5C;\n",
       "      --hover-fill-color: #FFFFFF;\n",
       "      --disabled-bg-color: #3B4455;\n",
       "      --disabled-fill-color: #666;\n",
       "  }\n",
       "\n",
       "  .colab-df-quickchart {\n",
       "    background-color: var(--bg-color);\n",
       "    border: none;\n",
       "    border-radius: 50%;\n",
       "    cursor: pointer;\n",
       "    display: none;\n",
       "    fill: var(--fill-color);\n",
       "    height: 32px;\n",
       "    padding: 0;\n",
       "    width: 32px;\n",
       "  }\n",
       "\n",
       "  .colab-df-quickchart:hover {\n",
       "    background-color: var(--hover-bg-color);\n",
       "    box-shadow: 0 1px 2px rgba(60, 64, 67, 0.3), 0 1px 3px 1px rgba(60, 64, 67, 0.15);\n",
       "    fill: var(--button-hover-fill-color);\n",
       "  }\n",
       "\n",
       "  .colab-df-quickchart-complete:disabled,\n",
       "  .colab-df-quickchart-complete:disabled:hover {\n",
       "    background-color: var(--disabled-bg-color);\n",
       "    fill: var(--disabled-fill-color);\n",
       "    box-shadow: none;\n",
       "  }\n",
       "\n",
       "  .colab-df-spinner {\n",
       "    border: 2px solid var(--fill-color);\n",
       "    border-color: transparent;\n",
       "    border-bottom-color: var(--fill-color);\n",
       "    animation:\n",
       "      spin 1s steps(1) infinite;\n",
       "  }\n",
       "\n",
       "  @keyframes spin {\n",
       "    0% {\n",
       "      border-color: transparent;\n",
       "      border-bottom-color: var(--fill-color);\n",
       "      border-left-color: var(--fill-color);\n",
       "    }\n",
       "    20% {\n",
       "      border-color: transparent;\n",
       "      border-left-color: var(--fill-color);\n",
       "      border-top-color: var(--fill-color);\n",
       "    }\n",
       "    30% {\n",
       "      border-color: transparent;\n",
       "      border-left-color: var(--fill-color);\n",
       "      border-top-color: var(--fill-color);\n",
       "      border-right-color: var(--fill-color);\n",
       "    }\n",
       "    40% {\n",
       "      border-color: transparent;\n",
       "      border-right-color: var(--fill-color);\n",
       "      border-top-color: var(--fill-color);\n",
       "    }\n",
       "    60% {\n",
       "      border-color: transparent;\n",
       "      border-right-color: var(--fill-color);\n",
       "    }\n",
       "    80% {\n",
       "      border-color: transparent;\n",
       "      border-right-color: var(--fill-color);\n",
       "      border-bottom-color: var(--fill-color);\n",
       "    }\n",
       "    90% {\n",
       "      border-color: transparent;\n",
       "      border-bottom-color: var(--fill-color);\n",
       "    }\n",
       "  }\n",
       "</style>\n",
       "\n",
       "  <script>\n",
       "    async function quickchart(key) {\n",
       "      const quickchartButtonEl =\n",
       "        document.querySelector('#' + key + ' button');\n",
       "      quickchartButtonEl.disabled = true;  // To prevent multiple clicks.\n",
       "      quickchartButtonEl.classList.add('colab-df-spinner');\n",
       "      try {\n",
       "        const charts = await google.colab.kernel.invokeFunction(\n",
       "            'suggestCharts', [key], {});\n",
       "      } catch (error) {\n",
       "        console.error('Error during call to suggestCharts:', error);\n",
       "      }\n",
       "      quickchartButtonEl.classList.remove('colab-df-spinner');\n",
       "      quickchartButtonEl.classList.add('colab-df-quickchart-complete');\n",
       "    }\n",
       "    (() => {\n",
       "      let quickchartButtonEl =\n",
       "        document.querySelector('#df-008665e9-1c1e-4fb6-8e93-fe06ef732699 button');\n",
       "      quickchartButtonEl.style.display =\n",
       "        google.colab.kernel.accessAllowed ? 'block' : 'none';\n",
       "    })();\n",
       "  </script>\n",
       "</div>\n",
       "    </div>\n",
       "  </div>\n"
      ],
      "application/vnd.google.colaboratory.intrinsic+json": {
       "type": "dataframe",
       "variable_name": "df",
       "summary": "{\n  \"name\": \"df\",\n  \"rows\": 29890,\n  \"fields\": [\n    {\n      \"column\": \"class\",\n      \"properties\": {\n        \"dtype\": \"number\",\n        \"std\": 0,\n        \"min\": 0,\n        \"max\": 1,\n        \"num_unique_values\": 2,\n        \"samples\": [\n          1,\n          0\n        ],\n        \"semantic_type\": \"\",\n        \"description\": \"\"\n      }\n    },\n    {\n      \"column\": \"date\",\n      \"properties\": {\n        \"dtype\": \"number\",\n        \"std\": 1,\n        \"min\": 0,\n        \"max\": 6,\n        \"num_unique_values\": 7,\n        \"samples\": [\n          4,\n          1\n        ],\n        \"semantic_type\": \"\",\n        \"description\": \"\"\n      }\n    },\n    {\n      \"column\": \"from\",\n      \"properties\": {\n        \"dtype\": \"category\",\n        \"num_unique_values\": 12639,\n        \"samples\": [\n          \"Johnetta <stephen_d_carey@msn.com>\",\n          \"andrew.fastow@enron.com\"\n        ],\n        \"semantic_type\": \"\",\n        \"description\": \"\"\n      }\n    },\n    {\n      \"column\": \"to\",\n      \"properties\": {\n        \"dtype\": \"category\",\n        \"num_unique_values\": 6913,\n        \"samples\": [\n          \"raymond.bowen@enron.com, louise.kitchen@enron.com\",\n          \"lisa.kinsey@enron.com, patti.sullivan@enron.com\"\n        ],\n        \"semantic_type\": \"\",\n        \"description\": \"\"\n      }\n    },\n    {\n      \"column\": \"subject\",\n      \"properties\": {\n        \"dtype\": \"string\",\n        \"num_unique_values\": 16841,\n        \"samples\": [\n          \"make dialup go faster\",\n          \"tip st kk growth day\"\n        ],\n        \"semantic_type\": \"\",\n        \"description\": \"\"\n      }\n    },\n    {\n      \"column\": \"body\",\n      \"properties\": {\n        \"dtype\": \"string\",\n        \"num_unique_values\": 22803,\n        \"samples\": [\n          \"s materi upcom week bobbi neon roar doc\",\n          \"win small cap daili trade small cap homerun newslett high prior statu immedi tripl predict cdyv profit soar compani forecast acquir takeov excit new issu get unknown undervalu publishing advertis leader project sale million ep codi ventur corp otc cdyv price rang day target major break news cdyv expand public dallas ft worth texa metroplex area result circul million copi monthli revenu exceed mill annual nearli mill bottom lin profit cdyv posit like takeov candid alway acquisition mind leader publish industri captur sale billion cdyv lead advertis print publish compani texa special high profit sector community bas weekli public master publish state texa cdyv reach million peopl counti town citi tidbit public featur local advertis dozen area includ entertain real estate h consum good servic major retail like walgreen dollar gener cdyv busi year grown quickli time explod public market cdyv new stock market gone public quiet manner brief period get near bottom share price soar increas investor awar compani perfect nich advertis platform none publicli offer start le cent share monthli circul jump million addit expans dallas ft worth translat million reader monthli achiev addit million annual revenu metroplex area alon cdyv provid necessari print servic nation publish respect state result anoth million yearli sale bottom lin top alreadi explos record shatt figur publish industri alway activ leader merger takeov acquisit dow jone dj gannett gci knight ridd kri tribun co trb exampl industri leader spent billion last year acquir aggress profit newspap chain publish compani cdyv repres epitom attract buyout target base month sale earn figur industri averag indic share price cdyv would conserv valuat matter time detail inform releas invest commun receiv email among first public investor know cdyv get crowd moon pleas read inform opinion featur profil base sourc believ reliabl represent made accuraci complet past perform indic futur result report paid profil inform purpos use basi invest decis newslett compens ten thousand dollar prepar profil continu cover age featur compani newslett publish invest advisor profil consid invest advic inform neither solicit buy offer sell secur inform herein contain future look statement subject signific risk uncertainti share present held particip occur trade share profil compani\"\n        ],\n        \"semantic_type\": \"\",\n        \"description\": \"\"\n      }\n    }\n  ]\n}"
      }
     },
     "metadata": {},
     "execution_count": 20
    }
   ],
   "source": [
    "df = pd.read_csv('/content/drive/MyDrive/Анализ соц сетей/кр/Task_1_prepprocessed.csv')\n",
    "df = df.dropna()\n",
    "df\n"
   ]
  },
  {
   "cell_type": "markdown",
   "metadata": {
    "id": "euWaoyiqv5Fa",
    "pycharm": {
     "name": "#%% md\n"
    }
   },
   "source": [
    "Сравним результаты, полученные при использовании трех различных способов векторизации:\n",
    "<ol>\n",
    "    <li>Базовый (в качестве предиктора используется только <code>body</code>).\n",
    "    <li>В качестве предикторов используем объединенные признаки <code>subject</code> и <code>body</code>, а также день недели, полученный из колонки <code>date</code>.\n",
    "    <li>Аналогично 1., только с использованием n-грамм.\n",
    "</ol>"
   ]
  },
  {
   "cell_type": "markdown",
   "metadata": {
    "id": "DuNvkR_Mv5Fb",
    "pycharm": {
     "name": "#%% md\n"
    }
   },
   "source": [
    "Для базового алгоритма из загруженного датасета возьмем только колонку <code>body</code> и колонку <code>class</code> с обозначением класса сообщения (идет первой)."
   ]
  },
  {
   "cell_type": "code",
   "execution_count": null,
   "metadata": {
    "id": "JllX6PG5v5Fc",
    "pycharm": {
     "name": "#%%\n"
    }
   },
   "outputs": [],
   "source": [
    "x_train, x_test, y_train, y_test = train_test_split(\n",
    "    df.iloc[:, 5], df.iloc[:,0], test_size=0.25, random_state=9)"
   ]
  },
  {
   "cell_type": "markdown",
   "metadata": {
    "id": "XpXBjdsbv5Fd",
    "pycharm": {
     "name": "#%% md\n"
    }
   },
   "source": [
    "Чтобы не модифицировать данные, использующиеся для базового алгоритма, сделаем глубокую копию данных для их дальнейшего преобразования. В частности, на копии произведем конкатенацию колонок `subject` и `body`. При разделении копии на тренировочный и тестовый наборы используем тот же `random_state`, что и для основого алгоритма, в целях сохранения соответствия полученных наборов."
   ]
  },
  {
   "cell_type": "code",
   "execution_count": null,
   "metadata": {
    "id": "weGsCZwhv5Fe",
    "pycharm": {
     "name": "#%%\n"
    }
   },
   "outputs": [],
   "source": [
    "df_copy = df.copy(deep = True)\n",
    "\n",
    "for i in range(len(df_copy)):\n",
    "    if df.iat[i, 4] != '':\n",
    "        try:\n",
    "            df_copy.iat[i, 5] = df_copy.iat[i, 4] + ' ' + df_copy.iat[i, 5]\n",
    "        except:\n",
    "            print(\"Something got wrong!\")\n",
    "\n",
    "x_train_b, x_test_b, _, _ = train_test_split(\n",
    "    df_copy.iloc[:, [1, 5]], df_copy.iloc[:,0], test_size=0.25, random_state=9)\n",
    "\n",
    "# y_train_b и y_test_b совпадают с y_train, y_test. Хранить их отдельно надобности нет."
   ]
  },
  {
   "cell_type": "markdown",
   "metadata": {
    "id": "zq1tojEzv5Fe",
    "pycharm": {
     "name": "#%% md\n"
    }
   },
   "source": [
    "# Генерация признаков"
   ]
  },
  {
   "cell_type": "markdown",
   "metadata": {
    "id": "SHeji4S8v5Ff",
    "pycharm": {
     "name": "#%% md\n"
    }
   },
   "source": [
    "Для базового алгоритма сначала из тренировочного набора данных составим словарь, используемый для векторизации и генерации признаков TF-IDF, во время преобразования тренировочного набора данных. Затем этот же словарь используем в функции трансформации тестового набора. Предлагаемый класс <code>TfidfVectorizer</code> используем с параметрами по умолчанию."
   ]
  },
  {
   "cell_type": "code",
   "execution_count": null,
   "metadata": {
    "id": "1whrKGZDv5Ff",
    "pycharm": {
     "name": "#%%\n"
    }
   },
   "outputs": [],
   "source": [
    "vectorizer_a = TfidfVectorizer()\n",
    "\n",
    "x_train_a = vectorizer_a.fit_transform(x_train)\n",
    "x_test_a = vectorizer_a.transform(x_test)"
   ]
  },
  {
   "cell_type": "markdown",
   "metadata": {
    "id": "IIWM4e5hv5Fg",
    "pycharm": {
     "name": "#%% md\n"
    }
   },
   "source": [
    "Для модифицированного алгоритма, где используется день недели, векторизацию произведем на колонке конкатенированных темы письма и содержания. К результату выполнения векторизации добавим колонку индексов дней недели. В данном случае векторизатор также инициализируем с параметрами по умолчанию."
   ]
  },
  {
   "cell_type": "code",
   "execution_count": null,
   "metadata": {
    "id": "fB1Ko3cNv5Fg",
    "pycharm": {
     "name": "#%%\n"
    }
   },
   "outputs": [],
   "source": [
    "vectorizer_b = TfidfVectorizer()\n",
    "# Добавляем к полученной в результате векторизации разреженной матрице столбец со значениями дней недели\n",
    "x_train_b = sp.sparse.hstack((vectorizer_b.fit_transform(x_train_b.iloc[:, 1]), x_train_b.iloc[:, 0].values.reshape(len(x_train_b.iloc[:, 0]),1)))\n",
    "x_test_b = sp.sparse.hstack((vectorizer_b.transform(x_test_b.iloc[:, 1]), x_test_b.iloc[:, 0].values.reshape(len(x_test_b.iloc[:, 0]),1)))"
   ]
  },
  {
   "cell_type": "markdown",
   "metadata": {
    "id": "rrq6oyeyv5Fg",
    "pycharm": {
     "name": "#%% md\n"
    }
   },
   "source": [
    "В третьем сценарии, где вместо слов используются биграммы для генерации признаков TF-IDF, при инициализации векторизатора укажем параметр <code>ngram_range = (2, 2)</code>."
   ]
  },
  {
   "cell_type": "code",
   "execution_count": null,
   "metadata": {
    "id": "KfjrTebDv5Fg",
    "pycharm": {
     "name": "#%%\n"
    }
   },
   "outputs": [],
   "source": [
    "vectorizer_c = TfidfVectorizer(ngram_range = (2, 2))\n",
    "\n",
    "x_train_c = vectorizer_c.fit_transform(x_train)\n",
    "x_test_c = vectorizer_c.transform(x_test)"
   ]
  },
  {
   "cell_type": "markdown",
   "metadata": {
    "id": "xYy1k0INv5Fh",
    "pycharm": {
     "name": "#%% md\n"
    }
   },
   "source": [
    "# Классификация\n",
    "\n",
    "Инициализируем три классификатора с одинаковыми параметрами."
   ]
  },
  {
   "cell_type": "code",
   "execution_count": null,
   "metadata": {
    "id": "JJdclrJ8v5Fh",
    "outputId": "d58bd858-4e21-4d52-8c89-24433bd9c298",
    "colab": {
     "base_uri": "https://localhost:8080/",
     "height": 74
    },
    "pycharm": {
     "name": "#%%\n"
    }
   },
   "outputs": [
    {
     "output_type": "execute_result",
     "data": {
      "text/plain": [
       "RandomForestClassifier(n_estimators=7, n_jobs=10, random_state=9)"
      ],
      "text/html": [
       "<style>#sk-container-id-3 {color: black;background-color: white;}#sk-container-id-3 pre{padding: 0;}#sk-container-id-3 div.sk-toggleable {background-color: white;}#sk-container-id-3 label.sk-toggleable__label {cursor: pointer;display: block;width: 100%;margin-bottom: 0;padding: 0.3em;box-sizing: border-box;text-align: center;}#sk-container-id-3 label.sk-toggleable__label-arrow:before {content: \"▸\";float: left;margin-right: 0.25em;color: #696969;}#sk-container-id-3 label.sk-toggleable__label-arrow:hover:before {color: black;}#sk-container-id-3 div.sk-estimator:hover label.sk-toggleable__label-arrow:before {color: black;}#sk-container-id-3 div.sk-toggleable__content {max-height: 0;max-width: 0;overflow: hidden;text-align: left;background-color: #f0f8ff;}#sk-container-id-3 div.sk-toggleable__content pre {margin: 0.2em;color: black;border-radius: 0.25em;background-color: #f0f8ff;}#sk-container-id-3 input.sk-toggleable__control:checked~div.sk-toggleable__content {max-height: 200px;max-width: 100%;overflow: auto;}#sk-container-id-3 input.sk-toggleable__control:checked~label.sk-toggleable__label-arrow:before {content: \"▾\";}#sk-container-id-3 div.sk-estimator input.sk-toggleable__control:checked~label.sk-toggleable__label {background-color: #d4ebff;}#sk-container-id-3 div.sk-label input.sk-toggleable__control:checked~label.sk-toggleable__label {background-color: #d4ebff;}#sk-container-id-3 input.sk-hidden--visually {border: 0;clip: rect(1px 1px 1px 1px);clip: rect(1px, 1px, 1px, 1px);height: 1px;margin: -1px;overflow: hidden;padding: 0;position: absolute;width: 1px;}#sk-container-id-3 div.sk-estimator {font-family: monospace;background-color: #f0f8ff;border: 1px dotted black;border-radius: 0.25em;box-sizing: border-box;margin-bottom: 0.5em;}#sk-container-id-3 div.sk-estimator:hover {background-color: #d4ebff;}#sk-container-id-3 div.sk-parallel-item::after {content: \"\";width: 100%;border-bottom: 1px solid gray;flex-grow: 1;}#sk-container-id-3 div.sk-label:hover label.sk-toggleable__label {background-color: #d4ebff;}#sk-container-id-3 div.sk-serial::before {content: \"\";position: absolute;border-left: 1px solid gray;box-sizing: border-box;top: 0;bottom: 0;left: 50%;z-index: 0;}#sk-container-id-3 div.sk-serial {display: flex;flex-direction: column;align-items: center;background-color: white;padding-right: 0.2em;padding-left: 0.2em;position: relative;}#sk-container-id-3 div.sk-item {position: relative;z-index: 1;}#sk-container-id-3 div.sk-parallel {display: flex;align-items: stretch;justify-content: center;background-color: white;position: relative;}#sk-container-id-3 div.sk-item::before, #sk-container-id-3 div.sk-parallel-item::before {content: \"\";position: absolute;border-left: 1px solid gray;box-sizing: border-box;top: 0;bottom: 0;left: 50%;z-index: -1;}#sk-container-id-3 div.sk-parallel-item {display: flex;flex-direction: column;z-index: 1;position: relative;background-color: white;}#sk-container-id-3 div.sk-parallel-item:first-child::after {align-self: flex-end;width: 50%;}#sk-container-id-3 div.sk-parallel-item:last-child::after {align-self: flex-start;width: 50%;}#sk-container-id-3 div.sk-parallel-item:only-child::after {width: 0;}#sk-container-id-3 div.sk-dashed-wrapped {border: 1px dashed gray;margin: 0 0.4em 0.5em 0.4em;box-sizing: border-box;padding-bottom: 0.4em;background-color: white;}#sk-container-id-3 div.sk-label label {font-family: monospace;font-weight: bold;display: inline-block;line-height: 1.2em;}#sk-container-id-3 div.sk-label-container {text-align: center;}#sk-container-id-3 div.sk-container {/* jupyter's `normalize.less` sets `[hidden] { display: none; }` but bootstrap.min.css set `[hidden] { display: none !important; }` so we also need the `!important` here to be able to override the default hidden behavior on the sphinx rendered scikit-learn.org. See: https://github.com/scikit-learn/scikit-learn/issues/21755 */display: inline-block !important;position: relative;}#sk-container-id-3 div.sk-text-repr-fallback {display: none;}</style><div id=\"sk-container-id-3\" class=\"sk-top-container\"><div class=\"sk-text-repr-fallback\"><pre>RandomForestClassifier(n_estimators=7, n_jobs=10, random_state=9)</pre><b>In a Jupyter environment, please rerun this cell to show the HTML representation or trust the notebook. <br />On GitHub, the HTML representation is unable to render, please try loading this page with nbviewer.org.</b></div><div class=\"sk-container\" hidden><div class=\"sk-item\"><div class=\"sk-estimator sk-toggleable\"><input class=\"sk-toggleable__control sk-hidden--visually\" id=\"sk-estimator-id-3\" type=\"checkbox\" checked><label for=\"sk-estimator-id-3\" class=\"sk-toggleable__label sk-toggleable__label-arrow\">RandomForestClassifier</label><div class=\"sk-toggleable__content\"><pre>RandomForestClassifier(n_estimators=7, n_jobs=10, random_state=9)</pre></div></div></div></div></div>"
      ]
     },
     "metadata": {},
     "execution_count": 26
    }
   ],
   "source": [
    "rfc_a = RandomForestClassifier(random_state=9, n_jobs=10, n_estimators=7)\n",
    "rfc_b = RandomForestClassifier(random_state=9, n_jobs=10, n_estimators=7)\n",
    "rfc_c = RandomForestClassifier(random_state=9, n_jobs=10, n_estimators=7)\n",
    "\n",
    "rfc_a.fit(x_train_a, y_train)\n",
    "rfc_b.fit(x_train_b, y_train)\n",
    "rfc_c.fit(x_train_c, y_train)"
   ]
  },
  {
   "cell_type": "markdown",
   "metadata": {
    "id": "jmApexJnv5Fi",
    "pycharm": {
     "name": "#%% md\n"
    }
   },
   "source": [
    "# Расчет метрик\n",
    "Для получения метрик удобнее всего воспользоваться модулем `sklearn.metrics`. Выполним предсказания на тестовых данных и выполним оценку полученных моделей для трех случаев."
   ]
  },
  {
   "cell_type": "code",
   "execution_count": null,
   "metadata": {
    "id": "Hr9LP1x3v5Fi",
    "outputId": "1df94de7-ff1d-42be-c42d-e80686582f8d",
    "colab": {
     "base_uri": "https://localhost:8080/"
    },
    "pycharm": {
     "name": "#%%\n"
    }
   },
   "outputs": [
    {
     "output_type": "stream",
     "name": "stdout",
     "text": [
      "              precision    recall  f1-score   support\n",
      "\n",
      "           0      0.960     0.977     0.968      3968\n",
      "           1      0.973     0.954     0.963      3505\n",
      "\n",
      "    accuracy                          0.966      7473\n",
      "   macro avg      0.967     0.965     0.966      7473\n",
      "weighted avg      0.966     0.966     0.966      7473\n",
      "\n",
      "              precision    recall  f1-score   support\n",
      "\n",
      "           0      0.961     0.981     0.971      3968\n",
      "           1      0.978     0.954     0.966      3505\n",
      "\n",
      "    accuracy                          0.969      7473\n",
      "   macro avg      0.969     0.968     0.968      7473\n",
      "weighted avg      0.969     0.969     0.969      7473\n",
      "\n",
      "              precision    recall  f1-score   support\n",
      "\n",
      "           0      0.978     0.954     0.965      3968\n",
      "           1      0.949     0.975     0.962      3505\n",
      "\n",
      "    accuracy                          0.964      7473\n",
      "   macro avg      0.963     0.964     0.964      7473\n",
      "weighted avg      0.964     0.964     0.964      7473\n",
      "\n"
     ]
    }
   ],
   "source": [
    "y_pred_a = rfc_a.predict(x_test_a)\n",
    "y_pred_b = rfc_b.predict(x_test_b)\n",
    "y_pred_c = rfc_c.predict(x_test_c)\n",
    "\n",
    "\n",
    "print(classification_report(y_test, y_pred_a, digits=3))\n",
    "print(classification_report(y_test, y_pred_b, digits=3))\n",
    "print(classification_report(y_test, y_pred_c, digits=3))"
   ]
  },
  {
   "cell_type": "markdown",
   "metadata": {
    "id": "NpVpDL6Iv5Fj",
    "pycharm": {
     "name": "#%% md\n"
    }
   },
   "source": [
    "Для примера сравним первые два сценирия с точки зрения FPR и precision.\n",
    "Для получения FPR достаточно сгенерировать confusion matrix и рассчитать его на основе значений из матрицы, в то время как precision может быть получен с помощью отдельной функции."
   ]
  },
  {
   "cell_type": "code",
   "execution_count": null,
   "metadata": {
    "id": "M9JAgzOBv5Fj",
    "outputId": "f7382f87-a0eb-4eab-e84e-5ab3fc044555",
    "colab": {
     "base_uri": "https://localhost:8080/"
    },
    "pycharm": {
     "name": "#%%\n"
    }
   },
   "outputs": [
    {
     "output_type": "stream",
     "name": "stdout",
     "text": [
      "Difference in FPR: -0.000423011844331642\n",
      "Difference in precision: 0.0005386334269830151\n"
     ]
    }
   ],
   "source": [
    "tn_a, fp_a, _, _  = confusion_matrix(y_test, y_pred_a).ravel()\n",
    "tn_b, fp_b, _, _ = confusion_matrix(y_test, y_pred_b).ravel()\n",
    "\n",
    "fpr_a = fp_a / (fp_a + tn_a)\n",
    "fpr_b = fp_b / (fp_b + tn_b)\n",
    "\n",
    "pr_a = precision_score(y_test, y_pred_a)\n",
    "pr_b = precision_score(y_test, y_pred_b)\n",
    "\n",
    "print(f'Difference in FPR: {fpr_b - fpr_a}')\n",
    "print(f'Difference in precision: {pr_b - pr_a}') функции.\n",
    "\n",
    "[ ]\n",
    "tn_a, fp_a, _, _  = confusion_matrix(y_test, y_pred_a).ravel()\n",
    "tn_b, fp_b, _, _ = confusion_matrix(y_test, y_pred_b).ravel()\n",
    "\n",
    "fpr_a = fp_a / (fp_a + tn_a)\n",
    "fpr_b = fp_b / (fp_b + tn_b)\n",
    "\n",
    "pr_a = precision_score(y_test, y_pred_a)\n",
    "pr_b = precision_score(y_test, y_pred_b)\n",
    "\n",
    "print(f'Difference in FPR: {fpr_b - fpr_a}')\n",
    "\n",
    "Difference in FPR: -0.000423011844331642\n",
    "Difference in precision: 0.0005386334269830151\n"
   ]
  }
 ],
 "metadata": {
  "kernelspec": {
   "display_name": "Python 3",
   "language": "python",
   "name": "python3"
  },
  "language_info": {
   "codemirror_mode": {
    "name": "ipython",
    "version": 3
   },
   "file_extension": ".py",
   "mimetype": "text/x-python",
   "name": "python",
   "nbconvert_exporter": "python",
   "pygments_lexer": "ipython3",
   "version": "3.7.6"
  },
  "colab": {
   "provenance": []
  }
 },
 "nbformat": 4,
 "nbformat_minor": 0
}